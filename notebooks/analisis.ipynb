{
 "cells": [
  {
   "cell_type": "code",
   "execution_count": 15,
   "metadata": {},
   "outputs": [],
   "source": [
    "import pandas as pd\n",
    "import numpy as np\n",
    "\n",
    "import matplotlib.pyplot as plt\n",
    "import seaborn as sns"
   ]
  },
  {
   "cell_type": "code",
   "execution_count": 16,
   "metadata": {},
   "outputs": [],
   "source": [
    "df = pd.read_csv('../artifacts/data/MejoresLibros.csv')"
   ]
  },
  {
   "cell_type": "code",
   "execution_count": 17,
   "metadata": {},
   "outputs": [
    {
     "name": "stdout",
     "output_type": "stream",
     "text": [
      "<class 'pandas.core.frame.DataFrame'>\n",
      "RangeIndex: 99 entries, 0 to 98\n",
      "Data columns (total 11 columns):\n",
      " #   Column       Non-Null Count  Dtype  \n",
      "---  ------       --------------  -----  \n",
      " 0   Unnamed: 0   99 non-null     int64  \n",
      " 1   Titulo       99 non-null     object \n",
      " 2   Autor        99 non-null     object \n",
      " 3   NotaMedia    99 non-null     object \n",
      " 4   Rango        99 non-null     object \n",
      " 5   NumVotos     99 non-null     float64\n",
      " 6   NumCriticas  99 non-null     int64  \n",
      " 7   Genero       99 non-null     object \n",
      " 8   Editorial    99 non-null     object \n",
      " 9   AñoEdicion   99 non-null     object \n",
      " 10  Resumen      99 non-null     object \n",
      "dtypes: float64(1), int64(2), object(8)\n",
      "memory usage: 8.6+ KB\n"
     ]
    }
   ],
   "source": [
    "df.info()"
   ]
  },
  {
   "cell_type": "code",
   "execution_count": 18,
   "metadata": {},
   "outputs": [
    {
     "data": {
      "text/html": [
       "<div>\n",
       "<style scoped>\n",
       "    .dataframe tbody tr th:only-of-type {\n",
       "        vertical-align: middle;\n",
       "    }\n",
       "\n",
       "    .dataframe tbody tr th {\n",
       "        vertical-align: top;\n",
       "    }\n",
       "\n",
       "    .dataframe thead th {\n",
       "        text-align: right;\n",
       "    }\n",
       "</style>\n",
       "<table border=\"1\" class=\"dataframe\">\n",
       "  <thead>\n",
       "    <tr style=\"text-align: right;\">\n",
       "      <th></th>\n",
       "      <th>Unnamed: 0</th>\n",
       "      <th>Titulo</th>\n",
       "      <th>Autor</th>\n",
       "      <th>NotaMedia</th>\n",
       "      <th>Rango</th>\n",
       "      <th>NumVotos</th>\n",
       "      <th>NumCriticas</th>\n",
       "      <th>Genero</th>\n",
       "      <th>Editorial</th>\n",
       "      <th>AñoEdicion</th>\n",
       "      <th>Resumen</th>\n",
       "    </tr>\n",
       "  </thead>\n",
       "  <tbody>\n",
       "    <tr>\n",
       "      <th>0</th>\n",
       "      <td>0</td>\n",
       "      <td>LAS LEGIONES MALDITAS</td>\n",
       "      <td>POSTEGUILLO, SANTIAGO</td>\n",
       "      <td>8,64</td>\n",
       "      <td>Muy bueno</td>\n",
       "      <td>1.284</td>\n",
       "      <td>176</td>\n",
       "      <td>Histórica y aventuras</td>\n",
       "      <td>EDICIONES B</td>\n",
       "      <td>2008</td>\n",
       "      <td>La historia de las legiones que desafiaron a A...</td>\n",
       "    </tr>\n",
       "    <tr>\n",
       "      <th>1</th>\n",
       "      <td>1</td>\n",
       "      <td>TORMENTA DE ESPADAS. (CANCIÓN DE HIELO Y FUEGO 3)</td>\n",
       "      <td>MARTIN, GEORGE R.R.</td>\n",
       "      <td>8,58</td>\n",
       "      <td>Muy bueno</td>\n",
       "      <td>2.440</td>\n",
       "      <td>121</td>\n",
       "      <td>Fantástica, ciencia ficción</td>\n",
       "      <td>GIGAMESH</td>\n",
       "      <td>2006</td>\n",
       "      <td>Las huestes de los fugaces reyes de Poniente, ...</td>\n",
       "    </tr>\n",
       "    <tr>\n",
       "      <th>2</th>\n",
       "      <td>2</td>\n",
       "      <td>JUEGO DE TRONOS. (CANCIÓN DE HIELO Y FUEGO 1)</td>\n",
       "      <td>MARTIN, GEORGE R.R.</td>\n",
       "      <td>8,47</td>\n",
       "      <td>Muy bueno</td>\n",
       "      <td>3.286</td>\n",
       "      <td>228</td>\n",
       "      <td>Fantástica, ciencia ficción</td>\n",
       "      <td>GIGAMESH</td>\n",
       "      <td>2011</td>\n",
       "      <td>Tras el largo verano, el invierno se acerca a ...</td>\n",
       "    </tr>\n",
       "    <tr>\n",
       "      <th>3</th>\n",
       "      <td>3</td>\n",
       "      <td>AFRICANUS. El hijo del cónsul</td>\n",
       "      <td>POSTEGUILLO, SANTIAGO</td>\n",
       "      <td>8,47</td>\n",
       "      <td>Muy bueno</td>\n",
       "      <td>1.414</td>\n",
       "      <td>196</td>\n",
       "      <td>Histórica y aventuras</td>\n",
       "      <td>EDICIONES B</td>\n",
       "      <td>2008</td>\n",
       "      <td>A finales del siglo III a. C., Roma se encontr...</td>\n",
       "    </tr>\n",
       "    <tr>\n",
       "      <th>4</th>\n",
       "      <td>4</td>\n",
       "      <td>LOS MISERABLES</td>\n",
       "      <td>VÍCTOR HUGO</td>\n",
       "      <td>8,46</td>\n",
       "      <td>Muy bueno</td>\n",
       "      <td>1.522</td>\n",
       "      <td>182</td>\n",
       "      <td>Clásicos de la literatura</td>\n",
       "      <td>AUSTRAL</td>\n",
       "      <td>2012</td>\n",
       "      <td>«Novela, por supuesto, pero también es Histori...</td>\n",
       "    </tr>\n",
       "  </tbody>\n",
       "</table>\n",
       "</div>"
      ],
      "text/plain": [
       "   Unnamed: 0                                             Titulo  \\\n",
       "0           0                              LAS LEGIONES MALDITAS   \n",
       "1           1  TORMENTA DE ESPADAS. (CANCIÓN DE HIELO Y FUEGO 3)   \n",
       "2           2      JUEGO DE TRONOS. (CANCIÓN DE HIELO Y FUEGO 1)   \n",
       "3           3                      AFRICANUS. El hijo del cónsul   \n",
       "4           4                                     LOS MISERABLES   \n",
       "\n",
       "                   Autor NotaMedia      Rango  NumVotos  NumCriticas  \\\n",
       "0  POSTEGUILLO, SANTIAGO      8,64  Muy bueno     1.284          176   \n",
       "1    MARTIN, GEORGE R.R.      8,58  Muy bueno     2.440          121   \n",
       "2    MARTIN, GEORGE R.R.      8,47  Muy bueno     3.286          228   \n",
       "3  POSTEGUILLO, SANTIAGO      8,47  Muy bueno     1.414          196   \n",
       "4            VÍCTOR HUGO      8,46  Muy bueno     1.522          182   \n",
       "\n",
       "                        Genero    Editorial AñoEdicion  \\\n",
       "0        Histórica y aventuras  EDICIONES B       2008   \n",
       "1  Fantástica, ciencia ficción     GIGAMESH       2006   \n",
       "2  Fantástica, ciencia ficción     GIGAMESH       2011   \n",
       "3        Histórica y aventuras  EDICIONES B       2008   \n",
       "4    Clásicos de la literatura      AUSTRAL       2012   \n",
       "\n",
       "                                             Resumen  \n",
       "0  La historia de las legiones que desafiaron a A...  \n",
       "1  Las huestes de los fugaces reyes de Poniente, ...  \n",
       "2  Tras el largo verano, el invierno se acerca a ...  \n",
       "3  A finales del siglo III a. C., Roma se encontr...  \n",
       "4  «Novela, por supuesto, pero también es Histori...  "
      ]
     },
     "execution_count": 18,
     "metadata": {},
     "output_type": "execute_result"
    }
   ],
   "source": [
    "df.head()"
   ]
  },
  {
   "cell_type": "markdown",
   "metadata": {},
   "source": [
    "## Data clean and EDA"
   ]
  },
  {
   "cell_type": "code",
   "execution_count": 19,
   "metadata": {},
   "outputs": [],
   "source": [
    "df.drop('Unnamed: 0',inplace=True, axis=1)"
   ]
  },
  {
   "cell_type": "code",
   "execution_count": 20,
   "metadata": {},
   "outputs": [
    {
     "data": {
      "text/plain": [
       "Muy bueno    99\n",
       "Name: Rango, dtype: int64"
      ]
     },
     "execution_count": 20,
     "metadata": {},
     "output_type": "execute_result"
    }
   ],
   "source": [
    "df.Rango.value_counts()"
   ]
  },
  {
   "cell_type": "markdown",
   "metadata": {},
   "source": [
    "Como solo hay un rango, se puede eliminar:"
   ]
  },
  {
   "cell_type": "code",
   "execution_count": 35,
   "metadata": {},
   "outputs": [],
   "source": [
    "df=df.drop('Rango',axis=1)"
   ]
  },
  {
   "cell_type": "markdown",
   "metadata": {},
   "source": [
    "Lista de Generos en el top:"
   ]
  },
  {
   "cell_type": "code",
   "execution_count": 21,
   "metadata": {},
   "outputs": [
    {
     "data": {
      "text/plain": [
       "Novela negra, intriga, terror    16\n",
       "Fantástica, ciencia ficción      15\n",
       "Clásicos de la literatura        13\n",
       "Literatura contemporánea         13\n",
       "Narrativa                        11\n",
       "Infantil y juvenil               11\n",
       "Histórica y aventuras            10\n",
       "Ficción literaria                 3\n",
       "Romántica, erótica                3\n",
       "Poesía, teatro                    2\n",
       "No Ficción                        1\n",
       "Biografías, Memorias              1\n",
       "Name: Genero, dtype: int64"
      ]
     },
     "execution_count": 21,
     "metadata": {},
     "output_type": "execute_result"
    }
   ],
   "source": [
    "df.Genero.value_counts()"
   ]
  },
  {
   "cell_type": "code",
   "execution_count": 22,
   "metadata": {},
   "outputs": [
    {
     "data": {
      "text/plain": [
       "DEBOLSILLO                 11\n",
       "SALAMANDRA                 10\n",
       "ALIANZA                     7\n",
       "DESTINO                     6\n",
       "MINOTAURO                   6\n",
       "ESPASA                      6\n",
       "GIGAMESH                    5\n",
       "PLAZA & JANÉS               5\n",
       "EDICIONES B                 4\n",
       "PLANETA                     4\n",
       "ALFAGUARA                   4\n",
       "AUSTRAL                     4\n",
       "TUSQUETS                    3\n",
       "MOLINO                      3\n",
       "LUMEN                       2\n",
       "ANAGRAMA                    2\n",
       "SEIX BARRAL                 2\n",
       "QUINTETO                    1\n",
       "PENGUIN                     1\n",
       "GRIJALBO                    1\n",
       "SUMA DE LETRAS              1\n",
       "SIRUELA                     1\n",
       "NÓRDICA                     1\n",
       "TEMAS DE HOY                1\n",
       "ROCA                        1\n",
       "NUBE DE TINTA               1\n",
       "MAEVA                       1\n",
       "EDHASA                      1\n",
       "LITERATURA RANDOM HOUSE     1\n",
       "ZETA BOLSILLO               1\n",
       "ALBA                        1\n",
       "CÁTEDRA                     1\n",
       "Name: Editorial, dtype: int64"
      ]
     },
     "execution_count": 22,
     "metadata": {},
     "output_type": "execute_result"
    }
   ],
   "source": [
    "df.Editorial.value_counts()"
   ]
  },
  {
   "cell_type": "code",
   "execution_count": 23,
   "metadata": {},
   "outputs": [
    {
     "data": {
      "text/plain": [
       "2007    18\n",
       "2006    14\n",
       "2009    12\n",
       "2010     9\n",
       "2008     7\n",
       "2013     5\n",
       "2011     5\n",
       "2016     4\n",
       "2014     4\n",
       "2012     4\n",
       "2003     3\n",
       "2015     3\n",
       "2021     2\n",
       "2017     1\n",
       "1993     1\n",
       "2000     1\n",
       "2001     1\n",
       "2005     1\n",
       "(200     1\n",
       "2002     1\n",
       "2018     1\n",
       "2020     1\n",
       "Name: AñoEdicion, dtype: int64"
      ]
     },
     "execution_count": 23,
     "metadata": {},
     "output_type": "execute_result"
    }
   ],
   "source": [
    "df.AñoEdicion.value_counts()"
   ]
  },
  {
   "cell_type": "markdown",
   "metadata": {},
   "source": [
    "Se convierte la columna NotaMedia a float:"
   ]
  },
  {
   "cell_type": "code",
   "execution_count": 32,
   "metadata": {},
   "outputs": [
    {
     "data": {
      "image/png": "[encoded data removed]",
      "text/plain": [
       "<Figure size 800x600 with 1 Axes>"
      ]
     },
     "metadata": {},
     "output_type": "display_data"
    }
   ],
   "source": [
    "sns.set(style=\"whitegrid\") \n",
    "df['NotaMedia'] = df['NotaMedia'].str.replace(',', '.').astype(float)\n",
    "\n",
    "plt.figure(figsize=(8, 6))\n",
    "sns.kdeplot(df['NotaMedia'], color='green', shade=True)  \n",
    "plt.xlabel('Nota Media')\n",
    "plt.ylabel('Densidad')\n",
    "plt.title('Densidad de la Distribución de la Nota Media')\n",
    "plt.show()"
   ]
  },
  {
   "cell_type": "code",
   "execution_count": 42,
   "metadata": {},
   "outputs": [
    {
     "name": "stdout",
     "output_type": "stream",
     "text": [
      "maximos votos:  5.494\n",
      "minimos votos:  1.031\n",
      "maximas criticas:  483\n",
      "minimas criticas:  1\n"
     ]
    }
   ],
   "source": [
    "\n",
    "print('maximos votos: ',df['NumVotos'].max())\n",
    "print('minimos votos: ',df['NumVotos'].min())\n",
    "print('maximas criticas: ' ,df['NumCriticas'].max())\n",
    "print('minimas criticas: ',df['NumCriticas'].min())\n",
    "\n",
    "\n"
   ]
  },
  {
   "cell_type": "markdown",
   "metadata": {},
   "source": [
    "El libro con más votos es:"
   ]
  },
  {
   "cell_type": "code",
   "execution_count": 44,
   "metadata": {},
   "outputs": [
    {
     "data": {
      "text/html": [
       "<div>\n",
       "<style scoped>\n",
       "    .dataframe tbody tr th:only-of-type {\n",
       "        vertical-align: middle;\n",
       "    }\n",
       "\n",
       "    .dataframe tbody tr th {\n",
       "        vertical-align: top;\n",
       "    }\n",
       "\n",
       "    .dataframe thead th {\n",
       "        text-align: right;\n",
       "    }\n",
       "</style>\n",
       "<table border=\"1\" class=\"dataframe\">\n",
       "  <thead>\n",
       "    <tr style=\"text-align: right;\">\n",
       "      <th></th>\n",
       "      <th>Titulo</th>\n",
       "      <th>Autor</th>\n",
       "      <th>NotaMedia</th>\n",
       "      <th>NumVotos</th>\n",
       "      <th>NumCriticas</th>\n",
       "      <th>Genero</th>\n",
       "      <th>Editorial</th>\n",
       "      <th>AñoEdicion</th>\n",
       "      <th>Resumen</th>\n",
       "    </tr>\n",
       "  </thead>\n",
       "  <tbody>\n",
       "    <tr>\n",
       "      <th>48</th>\n",
       "      <td>LA SOMBRA DEL VIENTO (El Cementerio de los Lib...</td>\n",
       "      <td>RUIZ ZAFÓN, CARLOS</td>\n",
       "      <td>7.82</td>\n",
       "      <td>5.494</td>\n",
       "      <td>483</td>\n",
       "      <td>Narrativa</td>\n",
       "      <td>PLANETA</td>\n",
       "      <td>2006</td>\n",
       "      <td>Un amanecer de 1945 un muchacho es conducido p...</td>\n",
       "    </tr>\n",
       "  </tbody>\n",
       "</table>\n",
       "</div>"
      ],
      "text/plain": [
       "                                               Titulo               Autor  \\\n",
       "48  LA SOMBRA DEL VIENTO (El Cementerio de los Lib...  RUIZ ZAFÓN, CARLOS   \n",
       "\n",
       "    NotaMedia  NumVotos  NumCriticas     Genero Editorial AñoEdicion  \\\n",
       "48       7.82     5.494          483  Narrativa   PLANETA       2006   \n",
       "\n",
       "                                              Resumen  \n",
       "48  Un amanecer de 1945 un muchacho es conducido p...  "
      ]
     },
     "execution_count": 44,
     "metadata": {},
     "output_type": "execute_result"
    }
   ],
   "source": [
    "df[df['NumVotos']==df['NumVotos'].max()]"
   ]
  },
  {
   "cell_type": "markdown",
   "metadata": {},
   "source": [
    "El libro con mayor relación Notamedia/numero de votos es:"
   ]
  },
  {
   "cell_type": "code",
   "execution_count": 47,
   "metadata": {},
   "outputs": [
    {
     "data": {
      "text/html": [
       "<div>\n",
       "<style scoped>\n",
       "    .dataframe tbody tr th:only-of-type {\n",
       "        vertical-align: middle;\n",
       "    }\n",
       "\n",
       "    .dataframe tbody tr th {\n",
       "        vertical-align: top;\n",
       "    }\n",
       "\n",
       "    .dataframe thead th {\n",
       "        text-align: right;\n",
       "    }\n",
       "</style>\n",
       "<table border=\"1\" class=\"dataframe\">\n",
       "  <thead>\n",
       "    <tr style=\"text-align: right;\">\n",
       "      <th></th>\n",
       "      <th>Titulo</th>\n",
       "      <th>Autor</th>\n",
       "      <th>NotaMedia</th>\n",
       "      <th>NumVotos</th>\n",
       "      <th>NumCriticas</th>\n",
       "      <th>Genero</th>\n",
       "      <th>Editorial</th>\n",
       "      <th>AñoEdicion</th>\n",
       "      <th>Resumen</th>\n",
       "      <th>Porcentaje</th>\n",
       "    </tr>\n",
       "  </thead>\n",
       "  <tbody>\n",
       "    <tr>\n",
       "      <th>48</th>\n",
       "      <td>LA SOMBRA DEL VIENTO (El Cementerio de los Lib...</td>\n",
       "      <td>RUIZ ZAFÓN, CARLOS</td>\n",
       "      <td>7.82</td>\n",
       "      <td>5.494</td>\n",
       "      <td>483</td>\n",
       "      <td>Narrativa</td>\n",
       "      <td>PLANETA</td>\n",
       "      <td>2006</td>\n",
       "      <td>Un amanecer de 1945 un muchacho es conducido p...</td>\n",
       "      <td>0.702558</td>\n",
       "    </tr>\n",
       "  </tbody>\n",
       "</table>\n",
       "</div>"
      ],
      "text/plain": [
       "                                               Titulo               Autor  \\\n",
       "48  LA SOMBRA DEL VIENTO (El Cementerio de los Lib...  RUIZ ZAFÓN, CARLOS   \n",
       "\n",
       "    NotaMedia  NumVotos  NumCriticas     Genero Editorial AñoEdicion  \\\n",
       "48       7.82     5.494          483  Narrativa   PLANETA       2006   \n",
       "\n",
       "                                              Resumen  Porcentaje  \n",
       "48  Un amanecer de 1945 un muchacho es conducido p...    0.702558  "
      ]
     },
     "execution_count": 47,
     "metadata": {},
     "output_type": "execute_result"
    }
   ],
   "source": [
    "df['Porcentaje'] = df['NumVotos']/df['NotaMedia'] \n",
    "\n",
    "# Encontrar el libro con el mayor porcentaje\n",
    "libro_max_porcentaje = df[df['Porcentaje'] == df['Porcentaje'].max()]\n",
    "\n",
    "# Imprimir el libro con el mayor porcentaje\n",
    "libro_max_porcentaje"
   ]
  },
  {
   "cell_type": "code",
   "execution_count": null,
   "metadata": {},
   "outputs": [],
   "source": []
  }
 ],
 "metadata": {
  "kernelspec": {
   "display_name": "base",
   "language": "python",
   "name": "python3"
  },
  "language_info": {
   "codemirror_mode": {
    "name": "ipython",
    "version": 3
   },
   "file_extension": ".py",
   "mimetype": "text/x-python",
   "name": "python",
   "nbconvert_exporter": "python",
   "pygments_lexer": "ipython3",
   "version": "3.8.13"
  },
  "orig_nbformat": 4,
  "vscode": {
   "interpreter": {
    "hash": "427b8541cfc07e6fbe7ab4a5298567b1b3022ff2b70fdb07d029f33f0434686a"
   }
  }
 },
 "nbformat": 4,
 "nbformat_minor": 2
}
